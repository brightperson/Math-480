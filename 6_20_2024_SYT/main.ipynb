{
 "cells": [
  {
   "cell_type": "markdown",
   "metadata": {},
   "source": [
    "# Imports"
   ]
  },
  {
   "cell_type": "code",
   "execution_count": 2,
   "metadata": {},
   "outputs": [
    {
     "data": {
      "text/plain": [
       "<module 'SYT' from 'c:\\\\Users\\\\andre\\\\OneDrive\\\\MATH 480 Assignments\\\\Math-480\\\\6_20_2024_SYT\\\\SYT.py'>"
      ]
     },
     "execution_count": 2,
     "metadata": {},
     "output_type": "execute_result"
    }
   ],
   "source": [
    "import importlib\n",
    "import SYT\n",
    "import matplotlib.pyplot as plt\n",
    "\n",
    "importlib.reload(SYT)"
   ]
  },
  {
   "cell_type": "markdown",
   "metadata": {},
   "source": [
    "## SYT Helper Functions.\n",
    "Implement the functions `is_valid_SYT` and `reshape_perm` then run this cell to test your helper functions. "
   ]
  },
  {
   "cell_type": "code",
   "execution_count": 3,
   "metadata": {},
   "outputs": [
    {
     "name": "stdout",
     "output_type": "stream",
     "text": [
      "True\n",
      "False\n",
      "((1, 2, 3), (4, 5), (6,))\n",
      "((1, 2, 3), (4, 5, 6))\n"
     ]
    }
   ],
   "source": [
    "print(SYT.is_valid_SYT(((1, 2, 3), (4, 5, 6), (7, 8, 9)))) # True\n",
    "print(SYT.is_valid_SYT(((1, 2, 3), (5, 4), (6,)))) # False\n",
    "\n",
    "print(SYT.reshape_perm((1, 2, 3, 4, 5, 6), (3, 2, 1))) # ((1, 2, 3), (4, 5), (6,))\n",
    "print(SYT.reshape_perm((1, 2, 3, 4, 5, 6), (3, 3))) # ((1, 2, 3), (4, 5, 6))"
   ]
  },
  {
   "cell_type": "markdown",
   "metadata": {},
   "source": [
    "# Generate all SYTs\n",
    "Implement `SYTs` and generate all valid SYTs for the following shapes:\n",
    "- (4,3,2,1)\n",
    "- (2,2)\n",
    "- (3,3)\n",
    "- (4,4)\n",
    "- (5,5)\n",
    "\n",
    "Save your SYTs in the `data` subfolder. For example, the SYTs of shape (4,3,2,1) are saved in `data/SYTs_4_3_2_1.txt`.\n",
    "\n",
    "What do you notice about SYTs of shape (n,n)? Write your observation in this cell here:\n",
    "The SYT's of shape (n,n) produdes the same amout of SYTs as the nth catalan number"
   ]
  },
  {
   "cell_type": "code",
   "execution_count": 4,
   "metadata": {},
   "outputs": [],
   "source": [
    "# Generate SYTs\n",
    "shapes = [(4,3,2,1), (2,2), (3,3), (4,4), (5,5)]\n",
    "for shape in shapes:\n",
    "    with open(f\"data/SYTs_{'_'.join(map(str, shape))}.txt\", 'w') as f:\n",
    "        f.write(str(SYT.SYTs(shape))) # Write SYTs to file\n"
   ]
  },
  {
   "cell_type": "markdown",
   "metadata": {},
   "source": [
    "# Generating Random SYTs\n",
    "Implement `random_SYT` and `random_SYT_2` and compare the efficacy on the shape (2,2,2).\n",
    "\n",
    "Print out how long it takes to generate 10000 samples using each function and compare the distributions to the uniform distribution.\n",
    "\n",
    "Plot the distributions using matplotlib and save them in the `figures` subfolder."
   ]
  },
  {
   "cell_type": "code",
   "execution_count": 1,
   "metadata": {},
   "outputs": [
    {
     "ename": "NameError",
     "evalue": "name 'SYT' is not defined",
     "output_type": "error",
     "traceback": [
      "\u001b[1;31m---------------------------------------------------------------------------\u001b[0m",
      "\u001b[1;31mNameError\u001b[0m                                 Traceback (most recent call last)",
      "Cell \u001b[1;32mIn[1], line 6\u001b[0m\n\u001b[0;32m      2\u001b[0m \u001b[38;5;28;01mimport\u001b[39;00m \u001b[38;5;21;01mtime\u001b[39;00m\n\u001b[0;32m      3\u001b[0m \u001b[38;5;28;01mimport\u001b[39;00m \u001b[38;5;21;01mos\u001b[39;00m\n\u001b[1;32m----> 6\u001b[0m distribution \u001b[38;5;241m=\u001b[39m {syt: \u001b[38;5;241m0\u001b[39m \u001b[38;5;28;01mfor\u001b[39;00m syt \u001b[38;5;129;01min\u001b[39;00m \u001b[43mSYT\u001b[49m\u001b[38;5;241m.\u001b[39mSYTs(shape)}\n\u001b[0;32m      9\u001b[0m start_time_SYT \u001b[38;5;241m=\u001b[39m time\u001b[38;5;241m.\u001b[39mtime()\n\u001b[0;32m     10\u001b[0m \u001b[38;5;28;01mfor\u001b[39;00m i \u001b[38;5;129;01min\u001b[39;00m \u001b[38;5;28mrange\u001b[39m(\u001b[38;5;241m100\u001b[39m):\n",
      "\u001b[1;31mNameError\u001b[0m: name 'SYT' is not defined"
     ]
    }
   ],
   "source": [
    "shape = (2,2,2)\n",
    "import time\n",
    "import os\n",
    "\n",
    "\n",
    "distribution = {syt: 0 for syt in SYT.SYTs(shape)}\n",
    "\n",
    "\n",
    "start_time_SYT = time.time()\n",
    "for i in range(100):\n",
    "  new_syt = SYT.random_SYT(shape)\n",
    "  distribution[new_syt] += 1\n",
    "end_time_SYT = time.time()\n",
    "print(f\"SYT time: {end_time_SYT - start_time_SYT}\")\n",
    "x=range(1,len(distribution))\n",
    "y=distribution.values()\n",
    "plt(range(1,len(distribution)), distribution.values(), label=\"random SYT\")\n",
    "\n",
    "distribution = {syt: 0 for syt in SYT.SYTs(shape)}\n",
    "start_time_SYT_2 = time.time()\n",
    "for i in range(100):\n",
    "  distribution[SYT.random_SYT(shape)] += 1\n",
    "end_time_SYT_2 = time.time()\n",
    "print(f\"SYT_2 time: {end_time_SYT_2 - start_time_SYT_2}\")\n",
    "expected_distribution = {str(syt): 10000 / len(distribution) for syt in distribution}\n",
    "plt(range(1,len(distribution)), distribution.values(), label=\"random_2 SYT\")\n",
    "\n",
    "plt(range(1,len(distribution)), expected_distribution.values(), label=\"Expected SYT\")\n",
    "if not os.path.exists('figures'):\n",
    "    os.makedirs('figures')\n",
    "plt.savefig('figures/distributions_comparison.png')\n",
    "plt.show()"
   ]
  }
 ],
 "metadata": {
  "kernelspec": {
   "display_name": "Python 3",
   "language": "python",
   "name": "python3"
  },
  "language_info": {
   "codemirror_mode": {
    "name": "ipython",
    "version": 3
   },
   "file_extension": ".py",
   "mimetype": "text/x-python",
   "name": "python",
   "nbconvert_exporter": "python",
   "pygments_lexer": "ipython3",
   "version": "3.11.9"
  }
 },
 "nbformat": 4,
 "nbformat_minor": 2
}
