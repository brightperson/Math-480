{
 "cells": [
  {
   "cell_type": "markdown",
   "metadata": {},
   "source": [
    "# Generate Data\n",
    "This is a simple notebook used for generating all the data we will be training our models on. For $1 \\le n \\le 10$, generate CSV data files. The header line should be `parenthesization,valid` and each subsequent row is a parenthesization followed by either `0` or `1`, where `0` denotes invalid and `1` denotes valid.\n",
    "\n",
    "The functions `parenthensizations.valid()` and `parenthesizations.invalid()` have been implemented for you, but make sure to balance the two classes so they have a equal number of data points."
   ]
  },
  {
   "cell_type": "code",
   "execution_count": null,
   "metadata": {},
   "outputs": [],
   "source": [
    "import importlib\n",
    "import random\n",
    "parenthesizations = importlib.import_module('parenthesizations')\n",
    "\n",
    "for n in range(1, 10):\n",
    "    with open(f\"data/parenthesizations_{n}.csv\", \"w\") as f:\n",
    "        f.write(\"parenthesization,valid\\n\")\n",
    "        # TODO Implement data generation code.\n",
    "        print(f\"Generated data for n = {n}\")"
   ]
  }
 ],
 "metadata": {
  "kernelspec": {
   "display_name": "Python 3",
   "language": "python",
   "name": "python3"
  },
  "language_info": {
   "codemirror_mode": {
    "name": "ipython",
    "version": 3
   },
   "file_extension": ".py",
   "mimetype": "text/x-python",
   "name": "python",
   "nbconvert_exporter": "python",
   "pygments_lexer": "ipython3",
   "version": "3.12.3"
  }
 },
 "nbformat": 4,
 "nbformat_minor": 2
}
