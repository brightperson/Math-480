{
 "cells": [
  {
   "cell_type": "code",
   "execution_count": 5,
   "metadata": {},
   "outputs": [
    {
     "name": "stdout",
     "output_type": "stream",
     "text": [
      "Generated n = 1\n",
      "Generated n = 2\n",
      "Generated n = 3\n",
      "Generated n = 4\n",
      "Generated n = 5\n",
      "Generated n = 6\n",
      "Generated n = 7\n",
      "Generated n = 8\n"
     ]
    }
   ],
   "source": [
    "import parenthesizations\n",
    "\n",
    "# We'll generate a 50-25-25 split of valid, invalid_balanced, invalid_unbalanced.\n",
    "# Then we'll split 80-5-15 into train, validation, test.\n",
    "\n",
    "MAX_N = 8\n",
    "TRAIN_VALIDATION_TEST_RATIO = (80,5,15)\n",
    "DATA_FILE_PREFIX = \"small_\"\n",
    "\n",
    "valid = []\n",
    "invalid_balanced = []\n",
    "invalid_unbalanced = []\n",
    "for n in range(1, MAX_N+1):\n",
    "  v, ib, iu = parenthesizations.valid(n), parenthesizations.all_balanced(n), parenthesizations.all(n)\n",
    "  iu -= ib\n",
    "  ib -= v\n",
    "  valid.extend(v)\n",
    "  invalid_balanced.extend(ib)\n",
    "  invalid_unbalanced.extend(iu)\n",
    "  print(f\"Generated n = {n}\")"
   ]
  },
  {
   "cell_type": "code",
   "execution_count": 6,
   "metadata": {},
   "outputs": [
    {
     "name": "stdout",
     "output_type": "stream",
     "text": [
      "Valid = 2055\n",
      "Invalid balanced = 1027\n",
      "Invalid unbalanced = 1027\n"
     ]
    }
   ],
   "source": [
    "import random\n",
    "\n",
    "invalid_balanced_sampling_ratio = 0.5 * len(valid) / len(invalid_balanced)\n",
    "invalid_unbalanced_sampling_ratio = 0.5 * len(valid) / len(invalid_unbalanced)\n",
    "\n",
    "random.shuffle(invalid_balanced)\n",
    "invalid_balanced_sampled = invalid_balanced[:int(invalid_balanced_sampling_ratio*len(invalid_balanced))]\n",
    "random.shuffle(invalid_unbalanced)\n",
    "invalid_unbalanced_sampled = invalid_unbalanced[:int(invalid_unbalanced_sampling_ratio*len(invalid_unbalanced))]\n",
    "\n",
    "print(f\"Valid = {len(valid)}\")\n",
    "print(f\"Invalid balanced = {len(invalid_balanced_sampled)}\")\n",
    "print(f\"Invalid unbalanced = {len(invalid_unbalanced_sampled)}\")"
   ]
  },
  {
   "cell_type": "code",
   "execution_count": 7,
   "metadata": {},
   "outputs": [],
   "source": [
    "def split(data, splits):\n",
    "  random.shuffle(data)\n",
    "  split_sum = sum(splits)\n",
    "  curr_split = 0\n",
    "  result = []\n",
    "  for i in splits:\n",
    "    next_split = int(len(data) * (curr_split+i) / split_sum)\n",
    "    result.append(data[curr_split:next_split])\n",
    "  return result\n",
    "\n",
    "valid_splits = split(list(valid), TRAIN_VALIDATION_TEST_RATIO)\n",
    "invalid_balanced_splits = split(list(invalid_balanced_sampled), TRAIN_VALIDATION_TEST_RATIO)\n",
    "invalid_unbalanced_splits = split(list(invalid_unbalanced_sampled), TRAIN_VALIDATION_TEST_RATIO)"
   ]
  },
  {
   "cell_type": "code",
   "execution_count": 8,
   "metadata": {},
   "outputs": [],
   "source": [
    "with open(f\"data/{DATA_FILE_PREFIX}training.csv\", \"w\") as f:\n",
    "  f.write(\"parenthesization,valid\\n\")\n",
    "  for p in valid_splits[0]:\n",
    "    f.write(f\"{p},1\\n\")\n",
    "  for p in invalid_balanced_splits[0]:\n",
    "    f.write(f\"{p},0\\n\")\n",
    "  for p in invalid_unbalanced_splits[0]:\n",
    "    f.write(f\"{p},0\\n\")\n",
    "\n",
    "with open(f\"data/{DATA_FILE_PREFIX}validation.csv\", \"w\") as f:\n",
    "  f.write(\"parenthesization,valid\\n\")\n",
    "  for p in valid_splits[1]:\n",
    "    f.write(f\"{p},1\\n\")\n",
    "  for p in invalid_balanced_splits[1]:\n",
    "    f.write(f\"{p},0\\n\")\n",
    "  for p in invalid_unbalanced_splits[1]:\n",
    "    f.write(f\"{p},0\\n\")\n",
    "\n",
    "with open(f\"data/{DATA_FILE_PREFIX}test.csv\", \"w\") as f:\n",
    "  f.write(\"parenthesization,valid\\n\")\n",
    "  for p in valid_splits[2]:\n",
    "    f.write(f\"{p},1\\n\")\n",
    "  for p in invalid_balanced_splits[2]:\n",
    "    f.write(f\"{p},0\\n\")\n",
    "  for p in invalid_unbalanced_splits[2]:\n",
    "    f.write(f\"{p},0\\n\")"
   ]
  }
 ],
 "metadata": {
  "kernelspec": {
   "display_name": "Python 3",
   "language": "python",
   "name": "python3"
  },
  "language_info": {
   "codemirror_mode": {
    "name": "ipython",
    "version": 3
   },
   "file_extension": ".py",
   "mimetype": "text/x-python",
   "name": "python",
   "nbconvert_exporter": "python",
   "pygments_lexer": "ipython3",
   "version": "3.12.3"
  }
 },
 "nbformat": 4,
 "nbformat_minor": 2
}
