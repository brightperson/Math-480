{
 "cells": [
  {
   "cell_type": "markdown",
   "metadata": {},
   "source": [
    "## Imports\n",
    "The files you need for this notebook are imported in the cell below."
   ]
  },
  {
   "cell_type": "code",
   "execution_count": null,
   "metadata": {},
   "outputs": [],
   "source": [
    "import catalan\n",
    "import os\n",
    "import time\n",
    "import matplotlib.pyplot as plt\n",
    "dirname = os.path.dirname(__file__)"
   ]
  },
  {
   "cell_type": "markdown",
   "metadata": {},
   "source": [
    "## Generate Parenthesizations\n",
    "\n",
    "Generate all possible parenthesizations of length $n$ for $1 \\le n \\le 10$. Files should be outputted to `data/catalan_parenthesizations_n.txt` and a plot of the time used to generate each data file should go in `figures/catalan_parenthesizations.png`."
   ]
  },
  {
   "cell_type": "code",
   "execution_count": 1,
   "metadata": {},
   "outputs": [
    {
     "ename": "NameError",
     "evalue": "name 'time' is not defined",
     "output_type": "error",
     "traceback": [
      "\u001b[1;31m---------------------------------------------------------------------------\u001b[0m",
      "\u001b[1;31mNameError\u001b[0m                                 Traceback (most recent call last)",
      "Cell \u001b[1;32mIn[1], line 5\u001b[0m\n\u001b[0;32m      2\u001b[0m parenthesizations_list \u001b[38;5;241m=\u001b[39m []\n\u001b[0;32m      4\u001b[0m \u001b[38;5;28;01mfor\u001b[39;00m n \u001b[38;5;129;01min\u001b[39;00m \u001b[38;5;28mrange\u001b[39m(\u001b[38;5;241m1\u001b[39m, \u001b[38;5;241m11\u001b[39m):\n\u001b[1;32m----> 5\u001b[0m     start_time \u001b[38;5;241m=\u001b[39m \u001b[43mtime\u001b[49m()\n\u001b[0;32m      6\u001b[0m     parenthesizations \u001b[38;5;241m=\u001b[39m catalan\u001b[38;5;241m.\u001b[39mparenthesizations(n)\n\u001b[0;32m      7\u001b[0m     end_time \u001b[38;5;241m=\u001b[39m time\u001b[38;5;241m.\u001b[39mtime()\n",
      "\u001b[1;31mNameError\u001b[0m: name 'time' is not defined"
     ]
    }
   ],
   "source": [
    "\n",
    "time_list = []\n",
    "parenthesizations_list = []\n",
    "\n",
    "for n in range(1, 11):\n",
    "    start_time = time.time()\n",
    "    parenthesizations = catalan.parenthesizations(n)\n",
    "    end_time = time.time()\n",
    "    \n",
    "    computation_time = end_time - start_time\n",
    "    time_list.append(computation_time)\n",
    "    parenthesizations_list.append(parenthesizations)\n",
    "\n",
    "# Plotting the results\n",
    "plt.plot(range(1, 11), time_list, label='Computation Time')\n",
    "plt.xlabel('n')\n",
    "plt.ylabel('Time (seconds)')\n",
    "plt.title('Computation Time for Catalan Parenthesizations')\n",
    "plt.legend()\n",
    "plt.show()"
   ]
  },
  {
   "cell_type": "markdown",
   "metadata": {},
   "source": [
    "## Generate Product Orders\n",
    "\n",
    "Generate all possible product orders of $n$ elements for $2 \\le n \\le 11$. Files should be outputted to `data/catalan_product_orders_n.txt` and a plot of the time used to generate each data file should go in `figures/catalan_product_orders.png`."
   ]
  },
  {
   "cell_type": "code",
   "execution_count": null,
   "metadata": {},
   "outputs": [],
   "source": [
    "for n in range(2, 12):\n",
    "  pass"
   ]
  },
  {
   "cell_type": "markdown",
   "metadata": {},
   "source": [
    "## Generate 231 Avoiding Permutations\n",
    "\n",
    "Generate all possible 231 avoiding permutations on $n$ elements for $1 \\le n \\le 10$. Files should be outputted to `data/catalan_permutations_n.txt` and a plot of the time used to generate each data file should go in `figures/catalan_permutations.png`."
   ]
  },
  {
   "cell_type": "code",
   "execution_count": null,
   "metadata": {},
   "outputs": [],
   "source": [
    "for n in range(1, 11):\n",
    "  pass"
   ]
  },
  {
   "cell_type": "markdown",
   "metadata": {},
   "source": [
    "## Generate Triangulations\n",
    "\n",
    "Generate all possible triangulations on an $n$-sided polygon for $3 \\le n \\le 12$. Files should be outputted to `data/catalan_triangulations_n.txt` and a plot of the time used to generate each data file should go in `figures/catalan_triangulations.png`."
   ]
  },
  {
   "cell_type": "code",
   "execution_count": null,
   "metadata": {},
   "outputs": [],
   "source": [
    "for n in range(3, 13):\n",
    "  pass"
   ]
  }
 ],
 "metadata": {
  "kernelspec": {
   "display_name": "Python 3",
   "language": "python",
   "name": "python3"
  },
  "language_info": {
   "codemirror_mode": {
    "name": "ipython",
    "version": 3
   },
   "file_extension": ".py",
   "mimetype": "text/x-python",
   "name": "python",
   "nbconvert_exporter": "python",
   "pygments_lexer": "ipython3",
   "version": "3.11.9"
  }
 },
 "nbformat": 4,
 "nbformat_minor": 2
}
